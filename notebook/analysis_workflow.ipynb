{
 "cells": [
  {
   "cell_type": "code",
   "execution_count": null,
   "metadata": {},
   "outputs": [],
   "source": [
    "import sys\n",
    "sys.path.append(r'../script/')\n",
    "from protein_composition import *\n",
    "import pandas as pd\n",
    "import re\n",
    "import os\n",
    "import numpy as np"
   ]
  },
  {
   "cell_type": "code",
   "execution_count": null,
   "metadata": {},
   "outputs": [],
   "source": [
    "# strain='BW25113'\n",
    "# strain='DH1'\n",
    "# strain='MG1655'\n",
    "strain='W3110'\n",
    "# strain='Bacillus'\n",
    "# strain='Yeast_single_cell'\n",
    "# strain='Corynebacterium_RNA_seq'"
   ]
  },
  {
   "attachments": {},
   "cell_type": "markdown",
   "metadata": {},
   "source": [
    "# Data description\n",
    "\n",
    "## E.coli\n",
    "### Literature: Multi-omics integration accurately predicts cellular state in unexplored conditions for Escherichia coli\n",
    "### Type: Absolute-level quantification\n",
    "\n",
    "## Yeast_single_cell\n",
    "### https://www.ncbi.nlm.nih.gov/geo/query/acc.cgi?acc=GSE122392\n",
    "### Literature: Sensitive, high-throughput single-cell RNA-Seq reveals within-clonal transcript-correlations in yeast populations\n",
    "### Type: Single-cell RNA-Seq\n",
    "\n",
    "## Bacillus\n",
    "### microarray data and used Bioconductor’s limma R package for quantile normalization.\n",
    "### Literature: Condition-Dependent Transcriptome Reveals High-Level Regulatory Architecture in Bacillus subtilis\n",
    "### Type: Microarray\n",
    "\n",
    "## Corynebacterium glutamicum\n",
    "### RNA_seq data using Nextflow workflow\n",
    "### Type: RNA-Seq"
   ]
  },
  {
   "cell_type": "code",
   "execution_count": null,
   "metadata": {},
   "outputs": [],
   "source": [
    "if re.search('_single_cell',strain):\n",
    "    proteome_file='../basic_data/omics_data/%s_transcriptome.csv'%strain\n",
    "elif re.search('_RNA_seq',strain):\n",
    "    proteome_file='../basic_data/omics_data/%s_transcriptome.csv'%strain\n",
    "else:\n",
    "    proteome_file='../basic_data/omics_data/%s_trans_transcriptome.csv'%strain"
   ]
  },
  {
   "cell_type": "code",
   "execution_count": null,
   "metadata": {},
   "outputs": [],
   "source": [
    "result_file='../analysis_result/initial_data/%s/'%strain\n",
    "if not os.path.exists(result_file):\n",
    "    os.makedirs(result_file)"
   ]
  },
  {
   "cell_type": "markdown",
   "metadata": {},
   "source": [
    "# Get protein MW/Sequence corresponding to gene id using uniprot API   \n",
    "https://www.uniprot.org/help/uniprotkb_column_names   \n",
    "https://www.uniprot.org/help/api_idmapping   "
   ]
  },
  {
   "cell_type": "code",
   "execution_count": null,
   "metadata": {},
   "outputs": [],
   "source": [
    "gene_uniprot_outfile='../download_data/Gene_name2ACC_MW_%s.txt'%strain\n",
    "my_pro_exp=pd.read_csv(proteome_file,index_col=0) \n",
    "print(my_pro_exp.shape) \n",
    "\n",
    "GENENAME_2_ACC_from_uniprot(my_pro_exp.index,gene_uniprot_outfile)"
   ]
  },
  {
   "cell_type": "code",
   "execution_count": null,
   "metadata": {},
   "outputs": [],
   "source": [
    "gene_uniprot_select_outfile= result_file + 'Gene_name2ACC_MW_%s_select.txt'%strain\n",
    "\n",
    "P_ACC_SEQ2ACC_MW_select=gene_uniprot_select(gene_uniprot_outfile,gene_uniprot_select_outfile)\n",
    "P_ACC_SEQ2ACC_MW_select.head(5)"
   ]
  },
  {
   "attachments": {},
   "cell_type": "markdown",
   "metadata": {},
   "source": [
    "## Get amino acid composiotion from protein sequence"
   ]
  },
  {
   "cell_type": "code",
   "execution_count": null,
   "metadata": {},
   "outputs": [],
   "source": [
    "gene_uniprot_select_outfile=result_file + 'Gene_name2ACC_MW_%s_select.txt'%strain\n",
    "amino_acid_information_file='../basic_data/amino_acid_information.csv'\n",
    "seq_amino_composition_file=result_file + 'seq_amino_composition_%s.csv'%strain\n",
    "seq_amino_composition_MW_file=result_file + 'seq_amino_composition_g_g_%s.csv'%strain\n",
    "\n",
    "[seq_amino_composition,seq_amino_composition_MW]=protein_amino_composition(gene_uniprot_select_outfile,amino_acid_information_file,seq_amino_composition_file,seq_amino_composition_MW_file)\n",
    "seq_amino_composition_MW.head(5)"
   ]
  },
  {
   "cell_type": "markdown",
   "metadata": {},
   "source": [
    "# Amino acid composition condsider protein sequence (normalized 1g protein)"
   ]
  },
  {
   "cell_type": "code",
   "execution_count": null,
   "metadata": {},
   "outputs": [],
   "source": [
    "seq_amino_composition_MW_file=result_file + 'seq_amino_composition_g_g_%s.csv'%strain\n",
    "seq_amino_composition_MW_norm_file=result_file + 'seq_amino_composition_g_g_norm_%s.csv'%strain\n",
    "\n",
    "seq_amino_composition_g_g_norm=amino_mass_norm(seq_amino_composition_MW_file,seq_amino_composition_MW_norm_file)\n",
    "seq_amino_composition_g_g_norm.head(5)"
   ]
  },
  {
   "cell_type": "markdown",
   "metadata": {},
   "source": [
    "# Amino acids composition of each protein (g / g protein) consider expression level under different conditions"
   ]
  },
  {
   "cell_type": "code",
   "execution_count": null,
   "metadata": {},
   "outputs": [],
   "source": [
    "gene_uniprot_select_outfile=result_file + 'Gene_name2ACC_MW_%s_select.txt'%strain\n",
    "\n",
    "my_pro_exp=pd.read_csv(proteome_file,index_col=0) \n",
    "P_ACC_SEQ2ACC_MW=pd.read_csv(gene_uniprot_select_outfile,index_col='Gene ID')\n",
    "my_pro_exp.head(5)"
   ]
  },
  {
   "cell_type": "code",
   "execution_count": null,
   "metadata": {},
   "outputs": [],
   "source": [
    "gene_uniprot_select_outfile=result_file + 'Gene_name2ACC_MW_%s_select.txt'%strain\n",
    "protein_expression_mass_norm_outfile=result_file + '%s_exp_onecell.json'%strain\n",
    "\n",
    "protein_expression_mass_norm_json=protein_expression_mass_norm(proteome_file,gene_uniprot_select_outfile,protein_expression_mass_norm_outfile)"
   ]
  },
  {
   "cell_type": "markdown",
   "metadata": {},
   "source": [
    "# Amino acids composition of each condaition (g / g total protein) consider expression level"
   ]
  },
  {
   "cell_type": "code",
   "execution_count": null,
   "metadata": {},
   "outputs": [],
   "source": [
    "seq_amino_composition_MW_norm_file=result_file + 'seq_amino_composition_g_g_norm_%s.csv'%strain\n",
    "protein_expression_mass_norm_outfile=result_file + '%s_exp_onecell.json'%strain\n",
    "amino_composition_norm_onecell_outfile=result_file + 'amino_composition_g_g_norm_onecell_%s.json'%strain\n",
    "amino_acid_expression_mass_norm_json=amino_acid_expression_mass_norm(protein_expression_mass_norm_outfile,seq_amino_composition_MW_norm_file,amino_composition_norm_onecell_outfile)"
   ]
  },
  {
   "cell_type": "code",
   "execution_count": null,
   "metadata": {},
   "outputs": [],
   "source": [
    "amino_composition_norm_onecell_outfile=result_file + 'amino_composition_g_g_norm_onecell_%s.json'%strain\n",
    "amino_composition_norm_onecell=json_load(amino_composition_norm_onecell_outfile)\n",
    "amino_composition_norm_onecell_df=pd.DataFrame()\n",
    "for key, value in amino_composition_norm_onecell.items():\n",
    "    for key2 in value.keys():\n",
    "        amino_composition_norm_onecell_df.loc[key,key2]=value[key2]['total']\n",
    "        \n",
    "amino_composition_norm_onecell_df_outfile=result_file + 'amino_composition_proteome_by_condition_%s.csv'%strain\n",
    "amino_composition_norm_onecell_df.to_csv(amino_composition_norm_onecell_df_outfile, header=True, index=True)"
   ]
  }
 ],
 "metadata": {
  "kernelspec": {
   "display_name": "AAComics",
   "language": "python",
   "name": "python3"
  },
  "language_info": {
   "codemirror_mode": {
    "name": "ipython",
    "version": 3
   },
   "file_extension": ".py",
   "mimetype": "text/x-python",
   "name": "python",
   "nbconvert_exporter": "python",
   "pygments_lexer": "ipython3",
   "version": "3.11.0"
  },
  "vscode": {
   "interpreter": {
    "hash": "8aa6988673662b92323eba03ed3e51a9795bfca0d4b09ce6c3c3a80404edbd95"
   }
  }
 },
 "nbformat": 4,
 "nbformat_minor": 4
}
